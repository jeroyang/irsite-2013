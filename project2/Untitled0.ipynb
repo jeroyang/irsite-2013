{
 "metadata": {
  "name": "Untitled0"
 },
 "nbformat": 3,
 "nbformat_minor": 0,
 "worksheets": [
  {
   "cells": [
    {
     "cell_type": "code",
     "collapsed": false,
     "input": [
      "from lxml import etree\n",
      "with open('small.xml') as xml:\n",
      "    tree = etree.parse(xml)\n",
      "    \n",
      "    print tree.xpath('.//MedlineCitation')"
     ],
     "language": "python",
     "metadata": {},
     "outputs": []
    }
   ],
   "metadata": {}
  }
 ]
}